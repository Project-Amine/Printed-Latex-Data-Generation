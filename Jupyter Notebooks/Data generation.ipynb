{
 "cells": [
  {
   "cell_type": "code",
   "execution_count": 1,
   "id": "56e282cf",
   "metadata": {},
   "outputs": [
    {
     "name": "stdout",
     "output_type": "stream",
     "text": [
      "Starting path:/Users/gregory/PROJECT_ML/PROJECT_AMINE/Printed-Latex-Data-Generation/Jupyter Notebooks\n",
      "Current path:/Users/gregory/PROJECT_ML/PROJECT_AMINE/Printed-Latex-Data-Generation\n"
     ]
    }
   ],
   "source": [
    "# Here we take care of paths.\n",
    "\n",
    "from pathlib import Path\n",
    "import os\n",
    "print('Starting path:' + os.getcwd())\n",
    "if os.getcwd()[-29:] == \"Printed-Latex-Data-Generation\":\n",
    "    pass\n",
    "else:\n",
    "    PATH = Path().resolve().parents[0]\n",
    "    os.chdir(PATH)\n",
    "\n",
    "# make sure you are in Paragraph_to_Tex folder\n",
    "print('Current path:' + os.getcwd())"
   ]
  },
  {
   "cell_type": "code",
   "execution_count": 2,
   "id": "4fef8300",
   "metadata": {},
   "outputs": [],
   "source": [
    "from Printed_Tex import Generate_Printed_Tex"
   ]
  },
  {
   "cell_type": "code",
   "execution_count": 3,
   "id": "48333ad4",
   "metadata": {},
   "outputs": [
    {
     "name": "stdout",
     "output_type": "stream",
     "text": [
      "/Users/gregory/PROJECT_ML/PROJECT_AMINE/Printed-Latex-Data-Generation/Data/raw_data/chrome\n",
      "Downloading raw dataset from http://www.cs.cornell.edu/projects/kddcup/download/hep-th-1992.tar.gz to /Users/gregory/PROJECT_ML/PROJECT_AMINE/Printed-Latex-Data-Generation/Data/raw_data/chrome/hep-th-1992.tar.gz\n"
     ]
    },
    {
     "name": "stderr",
     "output_type": "stream",
     "text": [
      "21.5MB [00:02, 9.58MB/s]                                                                                                   \n"
     ]
    },
    {
     "name": "stdout",
     "output_type": "stream",
     "text": [
      "Downloading raw dataset from http://www.cs.cornell.edu/projects/kddcup/download/hep-th-1993.tar.gz to /Users/gregory/PROJECT_ML/PROJECT_AMINE/Printed-Latex-Data-Generation/Data/raw_data/chrome/hep-th-1993.tar.gz\n"
     ]
    },
    {
     "name": "stderr",
     "output_type": "stream",
     "text": [
      "30.9MB [00:01, 31.0MB/s]                                                                                                   \n"
     ]
    },
    {
     "name": "stdout",
     "output_type": "stream",
     "text": [
      "Downloading raw dataset from http://www.cs.cornell.edu/projects/kddcup/download/hep-th-1994.tar.gz to /Users/gregory/PROJECT_ML/PROJECT_AMINE/Printed-Latex-Data-Generation/Data/raw_data/chrome/hep-th-1994.tar.gz\n"
     ]
    },
    {
     "name": "stderr",
     "output_type": "stream",
     "text": [
      "38.1MB [00:01, 33.2MB/s]                                                                                                   \n"
     ]
    },
    {
     "name": "stdout",
     "output_type": "stream",
     "text": [
      "Downloading raw dataset from http://www.cs.cornell.edu/projects/kddcup/download/hep-th-1995.tar.gz to /Users/gregory/PROJECT_ML/PROJECT_AMINE/Printed-Latex-Data-Generation/Data/raw_data/chrome/hep-th-1995.tar.gz\n"
     ]
    },
    {
     "name": "stderr",
     "output_type": "stream",
     "text": [
      "35.1MB [00:01, 34.5MB/s]                                                                                                   \n"
     ]
    },
    {
     "name": "stdout",
     "output_type": "stream",
     "text": [
      "Downloading raw dataset from http://www.cs.cornell.edu/projects/kddcup/download/hep-th-1996.tar.gz to /Users/gregory/PROJECT_ML/PROJECT_AMINE/Printed-Latex-Data-Generation/Data/raw_data/chrome/hep-th-1996.tar.gz\n"
     ]
    },
    {
     "name": "stderr",
     "output_type": "stream",
     "text": [
      "40.4MB [00:01, 30.3MB/s]                                                                                                   \n"
     ]
    },
    {
     "name": "stdout",
     "output_type": "stream",
     "text": [
      "Downloading raw dataset from http://www.cs.cornell.edu/projects/kddcup/download/hep-th-1997.tar.gz to /Users/gregory/PROJECT_ML/PROJECT_AMINE/Printed-Latex-Data-Generation/Data/raw_data/chrome/hep-th-1997.tar.gz\n"
     ]
    },
    {
     "name": "stderr",
     "output_type": "stream",
     "text": [
      "43.3MB [00:01, 30.4MB/s]                                                                                                   \n"
     ]
    },
    {
     "name": "stdout",
     "output_type": "stream",
     "text": [
      "Downloading raw dataset from http://www.cs.cornell.edu/projects/kddcup/download/hep-th-1998.tar.gz to /Users/gregory/PROJECT_ML/PROJECT_AMINE/Printed-Latex-Data-Generation/Data/raw_data/chrome/hep-th-1998.tar.gz\n"
     ]
    },
    {
     "name": "stderr",
     "output_type": "stream",
     "text": [
      "44.9MB [00:01, 25.9MB/s]                                                                                                   \n"
     ]
    },
    {
     "name": "stdout",
     "output_type": "stream",
     "text": [
      "Downloading raw dataset from http://www.cs.cornell.edu/projects/kddcup/download/hep-th-1999.tar.gz to /Users/gregory/PROJECT_ML/PROJECT_AMINE/Printed-Latex-Data-Generation/Data/raw_data/chrome/hep-th-1999.tar.gz\n"
     ]
    },
    {
     "name": "stderr",
     "output_type": "stream",
     "text": [
      "47.9MB [00:02, 24.6MB/s]                                                                                                   \n"
     ]
    },
    {
     "name": "stdout",
     "output_type": "stream",
     "text": [
      "Downloading raw dataset from http://www.cs.cornell.edu/projects/kddcup/download/hep-th-2000.tar.gz to /Users/gregory/PROJECT_ML/PROJECT_AMINE/Printed-Latex-Data-Generation/Data/raw_data/chrome/hep-th-2000.tar.gz\n"
     ]
    },
    {
     "name": "stderr",
     "output_type": "stream",
     "text": [
      "52.3MB [00:02, 18.9MB/s]                                                                                                   \n"
     ]
    },
    {
     "name": "stdout",
     "output_type": "stream",
     "text": [
      "Downloading raw dataset from http://www.cs.cornell.edu/projects/kddcup/download/hep-th-2001.tar.gz to /Users/gregory/PROJECT_ML/PROJECT_AMINE/Printed-Latex-Data-Generation/Data/raw_data/chrome/hep-th-2001.tar.gz\n"
     ]
    },
    {
     "name": "stderr",
     "output_type": "stream",
     "text": [
      "55.0MB [00:05, 10.8MB/s]                                                                                                   \n"
     ]
    },
    {
     "name": "stdout",
     "output_type": "stream",
     "text": [
      "Downloading raw dataset from http://www.cs.cornell.edu/projects/kddcup/download/hep-th-2002.tar.gz to /Users/gregory/PROJECT_ML/PROJECT_AMINE/Printed-Latex-Data-Generation/Data/raw_data/chrome/hep-th-2002.tar.gz\n"
     ]
    },
    {
     "name": "stderr",
     "output_type": "stream",
     "text": [
      "58.6MB [00:08, 7.62MB/s]                                                                                                   \n"
     ]
    },
    {
     "name": "stdout",
     "output_type": "stream",
     "text": [
      "Downloading raw dataset from http://www.cs.cornell.edu/projects/kddcup/download/hep-th-2003.tar.gz to /Users/gregory/PROJECT_ML/PROJECT_AMINE/Printed-Latex-Data-Generation/Data/raw_data/chrome/hep-th-2003.tar.gz\n"
     ]
    },
    {
     "name": "stderr",
     "output_type": "stream",
     "text": [
      "17.5MB [00:02, 7.10MB/s]                                                                                                   \n"
     ]
    },
    {
     "data": {
      "text/plain": [
       "<Printed_Tex.Generate_Printed_Tex at 0x173b04b50>"
      ]
     },
     "execution_count": 3,
     "metadata": {},
     "output_type": "execute_result"
    }
   ],
   "source": [
    "Generate_Printed_Tex(download_tex_dataset=True)"
   ]
  },
  {
   "cell_type": "code",
   "execution_count": null,
   "id": "2bdb4b93",
   "metadata": {},
   "outputs": [],
   "source": []
  },
  {
   "cell_type": "code",
   "execution_count": null,
   "id": "9cb578d2",
   "metadata": {},
   "outputs": [],
   "source": []
  },
  {
   "cell_type": "code",
   "execution_count": null,
   "id": "358ba95b",
   "metadata": {},
   "outputs": [],
   "source": []
  },
  {
   "cell_type": "code",
   "execution_count": null,
   "id": "a26887fe",
   "metadata": {},
   "outputs": [],
   "source": []
  },
  {
   "cell_type": "code",
   "execution_count": null,
   "id": "06a83840",
   "metadata": {},
   "outputs": [],
   "source": []
  },
  {
   "cell_type": "code",
   "execution_count": null,
   "id": "ac36ffc8",
   "metadata": {},
   "outputs": [],
   "source": []
  },
  {
   "cell_type": "code",
   "execution_count": null,
   "id": "02ab8e0e",
   "metadata": {},
   "outputs": [],
   "source": []
  },
  {
   "cell_type": "code",
   "execution_count": null,
   "id": "93f6b70b",
   "metadata": {},
   "outputs": [],
   "source": []
  },
  {
   "cell_type": "code",
   "execution_count": null,
   "id": "f5befbac",
   "metadata": {},
   "outputs": [],
   "source": []
  },
  {
   "cell_type": "code",
   "execution_count": null,
   "id": "fb38bf29",
   "metadata": {},
   "outputs": [],
   "source": []
  }
 ],
 "metadata": {
  "kernelspec": {
   "display_name": "Python 3 (ipykernel)",
   "language": "python",
   "name": "python3"
  },
  "language_info": {
   "codemirror_mode": {
    "name": "ipython",
    "version": 3
   },
   "file_extension": ".py",
   "mimetype": "text/x-python",
   "name": "python",
   "nbconvert_exporter": "python",
   "pygments_lexer": "ipython3",
   "version": "3.9.7"
  }
 },
 "nbformat": 4,
 "nbformat_minor": 5
}
